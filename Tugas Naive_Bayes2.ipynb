{
 "cells": [
  {
   "cell_type": "code",
   "execution_count": 2,
   "metadata": {},
   "outputs": [],
   "source": [
    "import numpy as np\n",
    "import matplotlib.pyplot as plt\n",
    "import pandas as pd"
   ]
  },
  {
   "cell_type": "code",
   "execution_count": 3,
   "metadata": {},
   "outputs": [],
   "source": [
    "data = pd.read_excel('data3.xlsx')"
   ]
  },
  {
   "cell_type": "code",
   "execution_count": 4,
   "metadata": {},
   "outputs": [
    {
     "data": {
      "text/html": [
       "<div>\n",
       "<style scoped>\n",
       "    .dataframe tbody tr th:only-of-type {\n",
       "        vertical-align: middle;\n",
       "    }\n",
       "\n",
       "    .dataframe tbody tr th {\n",
       "        vertical-align: top;\n",
       "    }\n",
       "\n",
       "    .dataframe thead th {\n",
       "        text-align: right;\n",
       "    }\n",
       "</style>\n",
       "<table border=\"1\" class=\"dataframe\">\n",
       "  <thead>\n",
       "    <tr style=\"text-align: right;\">\n",
       "      <th></th>\n",
       "      <th>DAY</th>\n",
       "      <th>DISCOUNT</th>\n",
       "      <th>FREE DELIVERY</th>\n",
       "      <th>PURCHASE</th>\n",
       "    </tr>\n",
       "  </thead>\n",
       "  <tbody>\n",
       "    <tr>\n",
       "      <th>0</th>\n",
       "      <td>WEEKDAY</td>\n",
       "      <td>YES</td>\n",
       "      <td>YES</td>\n",
       "      <td>YES</td>\n",
       "    </tr>\n",
       "    <tr>\n",
       "      <th>1</th>\n",
       "      <td>WEEKDAY</td>\n",
       "      <td>YES</td>\n",
       "      <td>YES</td>\n",
       "      <td>YES</td>\n",
       "    </tr>\n",
       "    <tr>\n",
       "      <th>2</th>\n",
       "      <td>WEEKDAY</td>\n",
       "      <td>NO</td>\n",
       "      <td>NO</td>\n",
       "      <td>NO</td>\n",
       "    </tr>\n",
       "    <tr>\n",
       "      <th>3</th>\n",
       "      <td>HOLIDAY</td>\n",
       "      <td>YES</td>\n",
       "      <td>YES</td>\n",
       "      <td>YES</td>\n",
       "    </tr>\n",
       "    <tr>\n",
       "      <th>4</th>\n",
       "      <td>WEEKDAY</td>\n",
       "      <td>YES</td>\n",
       "      <td>YES</td>\n",
       "      <td>YES</td>\n",
       "    </tr>\n",
       "  </tbody>\n",
       "</table>\n",
       "</div>"
      ],
      "text/plain": [
       "       DAY DISCOUNT FREE DELIVERY PURCHASE\n",
       "0  WEEKDAY      YES           YES      YES\n",
       "1  WEEKDAY      YES           YES      YES\n",
       "2  WEEKDAY       NO            NO       NO\n",
       "3  HOLIDAY      YES           YES      YES\n",
       "4  WEEKDAY      YES           YES      YES"
      ]
     },
     "execution_count": 4,
     "metadata": {},
     "output_type": "execute_result"
    }
   ],
   "source": [
    "data.head()"
   ]
  },
  {
   "cell_type": "code",
   "execution_count": 5,
   "metadata": {},
   "outputs": [
    {
     "data": {
      "text/plain": [
       "(30, 4)"
      ]
     },
     "execution_count": 5,
     "metadata": {},
     "output_type": "execute_result"
    }
   ],
   "source": [
    "data.shape"
   ]
  },
  {
   "cell_type": "code",
   "execution_count": 6,
   "metadata": {},
   "outputs": [
    {
     "data": {
      "text/plain": [
       "YES    24\n",
       "NO      6\n",
       "Name: PURCHASE, dtype: int64"
      ]
     },
     "execution_count": 6,
     "metadata": {},
     "output_type": "execute_result"
    }
   ],
   "source": [
    "data['PURCHASE'].value_counts()"
   ]
  },
  {
   "cell_type": "code",
   "execution_count": 7,
   "metadata": {},
   "outputs": [],
   "source": [
    "PYES= 24/30\n",
    "PNO=6/30"
   ]
  },
  {
   "cell_type": "code",
   "execution_count": 8,
   "metadata": {},
   "outputs": [
    {
     "name": "stdout",
     "output_type": "stream",
     "text": [
      "0.8\n"
     ]
    }
   ],
   "source": [
    "print (PYES)"
   ]
  },
  {
   "cell_type": "code",
   "execution_count": 9,
   "metadata": {},
   "outputs": [
    {
     "name": "stdout",
     "output_type": "stream",
     "text": [
      "0.2\n"
     ]
    }
   ],
   "source": [
    "print (PNO)"
   ]
  },
  {
   "cell_type": "code",
   "execution_count": 10,
   "metadata": {},
   "outputs": [
    {
     "data": {
      "text/html": [
       "<div>\n",
       "<style scoped>\n",
       "    .dataframe tbody tr th:only-of-type {\n",
       "        vertical-align: middle;\n",
       "    }\n",
       "\n",
       "    .dataframe tbody tr th {\n",
       "        vertical-align: top;\n",
       "    }\n",
       "\n",
       "    .dataframe thead th {\n",
       "        text-align: right;\n",
       "    }\n",
       "</style>\n",
       "<table border=\"1\" class=\"dataframe\">\n",
       "  <thead>\n",
       "    <tr style=\"text-align: right;\">\n",
       "      <th>PURCHASE</th>\n",
       "      <th>NO</th>\n",
       "      <th>YES</th>\n",
       "    </tr>\n",
       "    <tr>\n",
       "      <th>DAY</th>\n",
       "      <th></th>\n",
       "      <th></th>\n",
       "    </tr>\n",
       "  </thead>\n",
       "  <tbody>\n",
       "    <tr>\n",
       "      <th>HOLIDAY</th>\n",
       "      <td>3</td>\n",
       "      <td>8</td>\n",
       "    </tr>\n",
       "    <tr>\n",
       "      <th>WEEKDAY</th>\n",
       "      <td>2</td>\n",
       "      <td>9</td>\n",
       "    </tr>\n",
       "    <tr>\n",
       "      <th>WEEKEND</th>\n",
       "      <td>1</td>\n",
       "      <td>7</td>\n",
       "    </tr>\n",
       "  </tbody>\n",
       "</table>\n",
       "</div>"
      ],
      "text/plain": [
       "PURCHASE  NO  YES\n",
       "DAY              \n",
       "HOLIDAY    3    8\n",
       "WEEKDAY    2    9\n",
       "WEEKEND    1    7"
      ]
     },
     "execution_count": 10,
     "metadata": {},
     "output_type": "execute_result"
    }
   ],
   "source": [
    "pd.crosstab (data['DAY'], data['PURCHASE'])"
   ]
  },
  {
   "cell_type": "code",
   "execution_count": 11,
   "metadata": {},
   "outputs": [
    {
     "name": "stdout",
     "output_type": "stream",
     "text": [
      "0.375\n"
     ]
    }
   ],
   "source": [
    "PHOLIDAYNO=3/6\n",
    "PWEEKDAYNO=2/6\n",
    "PWEEKENDNO=1/6\n",
    "\n",
    "PHOLIDAYYES=8/24\n",
    "PWEEKDAYYES=9/24\n",
    "PWEEKENDYES=7/24\n",
    "\n",
    "PHOLIDAY=11/30\n",
    "PWEEKDAY=11/30\n",
    "PWEEKEND=8/30\n",
    "\n",
    "print (PWEEKDAYYES)"
   ]
  },
  {
   "cell_type": "code",
   "execution_count": 12,
   "metadata": {},
   "outputs": [
    {
     "name": "stdout",
     "output_type": "stream",
     "text": [
      "0.3333333333333333\n"
     ]
    }
   ],
   "source": [
    "PHOLIDAYNO=3/6\n",
    "PWEEKDAYNO=2/6\n",
    "PWEEKENDNO=1/6\n",
    "\n",
    "PHOLIDAYYES=8/24\n",
    "PWEEKDAYYES=9/24\n",
    "PWEEKENDYES=7/24\n",
    "\n",
    "PHOLIDAY=11/30\n",
    "PWEEKDAY=11/30\n",
    "PWEEKEND=8/30\n",
    "\n",
    "print (PHOLIDAYYES)"
   ]
  },
  {
   "cell_type": "code",
   "execution_count": 13,
   "metadata": {},
   "outputs": [
    {
     "name": "stdout",
     "output_type": "stream",
     "text": [
      "0.2916666666666667\n"
     ]
    }
   ],
   "source": [
    "PHOLIDAYNO=3/6\n",
    "PWEEKDAYNO=2/6\n",
    "PWEEKENDNO=1/6\n",
    "\n",
    "PHOLIDAYYES=8/24\n",
    "PWEEKDAYYES=9/24\n",
    "PWEEKENDYES=7/24\n",
    "\n",
    "PHOLIDAY=11/30\n",
    "PWEEKDAY=11/30\n",
    "PWEEKEND=8/30\n",
    "\n",
    "print (PWEEKENDYES)"
   ]
  },
  {
   "cell_type": "code",
   "execution_count": 14,
   "metadata": {},
   "outputs": [],
   "source": [
    "#P(A|B) ?\n",
    "#P  (A) = PWEEKDAY\n",
    "#P  (B) = NO BUY\n",
    "#P (A|B) =P WEEKDAY | NO BUY"
   ]
  },
  {
   "cell_type": "code",
   "execution_count": 15,
   "metadata": {},
   "outputs": [
    {
     "name": "stdout",
     "output_type": "stream",
     "text": [
      "0.18181818181818182\n"
     ]
    }
   ],
   "source": [
    "PNOWEEKDAY =(PWEEKDAYNO*PNO)/PWEEKDAY\n",
    "print(PNOWEEKDAY)"
   ]
  },
  {
   "cell_type": "code",
   "execution_count": 16,
   "metadata": {},
   "outputs": [
    {
     "name": "stdout",
     "output_type": "stream",
     "text": [
      "0.8181818181818183\n"
     ]
    }
   ],
   "source": [
    "PYESWEEKDAY =(PWEEKDAYYES*PYES)/PWEEKDAY\n",
    "print(PYESWEEKDAY)"
   ]
  },
  {
   "cell_type": "code",
   "execution_count": 17,
   "metadata": {},
   "outputs": [
    {
     "name": "stdout",
     "output_type": "stream",
     "text": [
      "0.18181818181818182\n",
      "0.8181818181818183\n"
     ]
    }
   ],
   "source": [
    "#Probabilitas (BUY | WEEKDAY) > Dibanding dengan Probabilitas (NOBUY | WEEKDAY)\n",
    "print(PNOWEEKDAY)\n",
    "print(PYESWEEKDAY)"
   ]
  },
  {
   "cell_type": "code",
   "execution_count": 18,
   "metadata": {},
   "outputs": [],
   "source": [
    "# Kondisi B Dimana\n",
    "# DAY = HOLIDAY\n",
    "# DISCOUNT = YES\n",
    "# FREE DELIVERY = YES\n",
    "# A =NO BUY\n",
    "# P (A|B) =P (NO BUY|DISCOUNTYES ,FREE DELIVERY YES , PDAYHOLIDAY)"
   ]
  },
  {
   "cell_type": "code",
   "execution_count": 19,
   "metadata": {},
   "outputs": [
    {
     "data": {
      "text/html": [
       "<div>\n",
       "<style scoped>\n",
       "    .dataframe tbody tr th:only-of-type {\n",
       "        vertical-align: middle;\n",
       "    }\n",
       "\n",
       "    .dataframe tbody tr th {\n",
       "        vertical-align: top;\n",
       "    }\n",
       "\n",
       "    .dataframe thead th {\n",
       "        text-align: right;\n",
       "    }\n",
       "</style>\n",
       "<table border=\"1\" class=\"dataframe\">\n",
       "  <thead>\n",
       "    <tr style=\"text-align: right;\">\n",
       "      <th>PURCHASE</th>\n",
       "      <th>NO</th>\n",
       "      <th>YES</th>\n",
       "    </tr>\n",
       "    <tr>\n",
       "      <th>DISCOUNT</th>\n",
       "      <th></th>\n",
       "      <th></th>\n",
       "    </tr>\n",
       "  </thead>\n",
       "  <tbody>\n",
       "    <tr>\n",
       "      <th>NO</th>\n",
       "      <td>5</td>\n",
       "      <td>5</td>\n",
       "    </tr>\n",
       "    <tr>\n",
       "      <th>YES</th>\n",
       "      <td>1</td>\n",
       "      <td>19</td>\n",
       "    </tr>\n",
       "  </tbody>\n",
       "</table>\n",
       "</div>"
      ],
      "text/plain": [
       "PURCHASE  NO  YES\n",
       "DISCOUNT         \n",
       "NO         5    5\n",
       "YES        1   19"
      ]
     },
     "execution_count": 19,
     "metadata": {},
     "output_type": "execute_result"
    }
   ],
   "source": [
    "pd.crosstab (data['DISCOUNT'], data['PURCHASE'])"
   ]
  },
  {
   "cell_type": "code",
   "execution_count": 20,
   "metadata": {},
   "outputs": [],
   "source": [
    "PNODISCOUNTNO = 5/6\n",
    "PYESDISCOUNTNO = 1/6\n",
    "\n",
    "PNODISCOUNTYES = 5/24\n",
    "PYESDISCOUNTYES = 19/24\n",
    "\n",
    "PNODISCOUNT = 10/30\n",
    "PYESDISCOUNT = 20/30"
   ]
  },
  {
   "cell_type": "code",
   "execution_count": 21,
   "metadata": {},
   "outputs": [
    {
     "data": {
      "text/html": [
       "<div>\n",
       "<style scoped>\n",
       "    .dataframe tbody tr th:only-of-type {\n",
       "        vertical-align: middle;\n",
       "    }\n",
       "\n",
       "    .dataframe tbody tr th {\n",
       "        vertical-align: top;\n",
       "    }\n",
       "\n",
       "    .dataframe thead th {\n",
       "        text-align: right;\n",
       "    }\n",
       "</style>\n",
       "<table border=\"1\" class=\"dataframe\">\n",
       "  <thead>\n",
       "    <tr style=\"text-align: right;\">\n",
       "      <th>PURCHASE</th>\n",
       "      <th>NO</th>\n",
       "      <th>YES</th>\n",
       "    </tr>\n",
       "    <tr>\n",
       "      <th>FREE DELIVERY</th>\n",
       "      <th></th>\n",
       "      <th></th>\n",
       "    </tr>\n",
       "  </thead>\n",
       "  <tbody>\n",
       "    <tr>\n",
       "      <th>NO</th>\n",
       "      <td>4</td>\n",
       "      <td>3</td>\n",
       "    </tr>\n",
       "    <tr>\n",
       "      <th>YES</th>\n",
       "      <td>2</td>\n",
       "      <td>21</td>\n",
       "    </tr>\n",
       "  </tbody>\n",
       "</table>\n",
       "</div>"
      ],
      "text/plain": [
       "PURCHASE       NO  YES\n",
       "FREE DELIVERY         \n",
       "NO              4    3\n",
       "YES             2   21"
      ]
     },
     "execution_count": 21,
     "metadata": {},
     "output_type": "execute_result"
    }
   ],
   "source": [
    "pd.crosstab (data['FREE DELIVERY'], data['PURCHASE'])"
   ]
  },
  {
   "cell_type": "code",
   "execution_count": 22,
   "metadata": {},
   "outputs": [],
   "source": [
    "PNODELIVERYNO =4/6\n",
    "PYESDELIVERYNO=2/6\n",
    "\n",
    "PNODELIVERYYES=3/24\n",
    "PYESDELIVERYYES=21/24\n",
    "\n",
    "PNODELIVERY=7/30\n",
    "PYESDELIVERY=23/30"
   ]
  },
  {
   "cell_type": "code",
   "execution_count": 23,
   "metadata": {},
   "outputs": [],
   "source": [
    "# Kondisi B Dimana\n",
    "# DAY = HOLIDAY\n",
    "# DISCOUNT = YES\n",
    "# FREE DELIVERY =YES\n",
    "# P(A) = NOBUY =PNO\n",
    "# P(B) = PYESDISCOUNT, PYESDELIVERY ,PHOLIDAY\n",
    "# P(B|A)1 =(PHOLIDAY|NO BUY) =PHOLIDAYNO\n",
    "# P(B|A)2 =(PYESDISCOUNT|NO BUY) =PYESDISCOUNTNO\n",
    "# P(B|A)3 =(PYESDELIVERY|NO BUY) =PYESDELIVERYNO\n",
    "# P(B)1 =PHOLIDAY\n",
    "# P(B)2 =PYESDISCOUNT\n",
    "# P(B)3 =PYESDELIVERY\n",
    "\n",
    "#Ditanya P(A|B) ?\n",
    "#Rumus\n",
    "# P(A|B) = P(B|A)*P(A)/P(B)\n"
   ]
  },
  {
   "cell_type": "code",
   "execution_count": 24,
   "metadata": {},
   "outputs": [
    {
     "name": "stdout",
     "output_type": "stream",
     "text": [
      "0.029644268774703563\n"
     ]
    }
   ],
   "source": [
    " PNOBUY1 = ((PHOLIDAYNO*PYESDISCOUNTNO*PYESDELIVERYNO)*PNO) / (PHOLIDAY* PYESDISCOUNT*PYESDELIVERY)\n",
    "print(PNOBUY1)"
   ]
  },
  {
   "cell_type": "code",
   "execution_count": 25,
   "metadata": {},
   "outputs": [],
   "source": [
    "# Kondisi B Dimana\n",
    "# DAY = HOLIDAY\n",
    "# DISCOUNT = YES\n",
    "# FREE DELIVERY =YES\n",
    "# P(A) = BUY =PYES\n",
    "# P(B) = PYESDISCOUNT, PYESDELIVERY ,PHOLIDAY\n",
    "# P(B|A)1 =(PHOLIDAY|BUY) =PHOLIDAYYES\n",
    "# P(B|A)2 =(PYESDISCOUNT|BUY) =PYESDISCOUNTYES\n",
    "# P(B|A)3 =(PYESDELIVERY|BUY) =PYESDELIVERYYES\n",
    "# P(B)1 =PHOLIDAY\n",
    "# P(B)2 =PYESDISCOUNT\n",
    "# P(B)3 =PYESDELIVERY\n",
    "\n",
    "#Ditanya P(A|B) ?\n",
    "#Rumus\n",
    "# P(A|B) = P(B|A)*P(A)/P(B)"
   ]
  },
  {
   "cell_type": "code",
   "execution_count": 26,
   "metadata": {},
   "outputs": [
    {
     "name": "stdout",
     "output_type": "stream",
     "text": [
      "0.9856719367588933\n"
     ]
    }
   ],
   "source": [
    "PBUY2 =((PHOLIDAYYES*PYESDISCOUNTYES*PYESDELIVERYYES)*PYES) / (PHOLIDAY* PYESDISCOUNT*PYESDELIVERY)\n",
    "print(PBUY2)"
   ]
  },
  {
   "cell_type": "code",
   "execution_count": 27,
   "metadata": {},
   "outputs": [],
   "source": [
    "# Probablity of No purchase = 0.029644268774703563\n",
    "# Probablity of  purchase = 0.9856719367588933"
   ]
  },
  {
   "cell_type": "code",
   "execution_count": 40,
   "metadata": {},
   "outputs": [
    {
     "name": "stdout",
     "output_type": "stream",
     "text": [
      "3.905379965955974\n"
     ]
    }
   ],
   "source": [
    "PSum = PNOBUY1 + PBUY2\n",
    "print (PSum)"
   ]
  },
  {
   "cell_type": "code",
   "execution_count": 41,
   "metadata": {},
   "outputs": [
    {
     "name": "stdout",
     "output_type": "stream",
     "text": [
      "25.23882299164754\n"
     ]
    }
   ],
   "source": [
    "PBUY = (PBUY2/PSum)*100\n",
    "print (PBUY)"
   ]
  },
  {
   "cell_type": "code",
   "execution_count": 42,
   "metadata": {},
   "outputs": [
    {
     "name": "stdout",
     "output_type": "stream",
     "text": [
      "74.76117700835246\n"
     ]
    }
   ],
   "source": [
    "PNOBUY1 = (PNOBUY1/PSum)*100\n",
    "print (PNOBUY1)"
   ]
  },
  {
   "cell_type": "code",
   "execution_count": 43,
   "metadata": {},
   "outputs": [],
   "source": [
    "#NOMEER 01 P (Buy | Day = Weekday, Free Delivery = Yes, Discount = Yes)\n",
    "# Kondisi B Dimana\n",
    "# DAY = WEEKDAY\n",
    "# DISCOUNT = YES\n",
    "# FREE DELIVERY =YES\n",
    "# P(A) = BUY =PYES\n",
    "# P(B) = PYESDISCOUNT, PYESDELIVERY ,WEEKDAY\n",
    "# P(B|A)1 =(PWEEKDAY|BUY) =PWEEKDAYYES\n",
    "# P(B|A)2 =(PYESDISCOUNT|BUY) =PYESDISCOUNTYES\n",
    "# P(B|A)3 =(PYESDELIVERY|BUY) =PYESDELIVERYYES\n",
    "# P(B)1 =PWEEKDAY\n",
    "# P(B)2 =PYESDISCOUNT\n",
    "# P(B)3 =PYESDELIVERY\n",
    "\n",
    "#Ditanya P(A|B) ?\n",
    "#Rumus\n",
    "# P(A|B) = P(B|A)*P(A)/P(B)"
   ]
  },
  {
   "cell_type": "code",
   "execution_count": 44,
   "metadata": {},
   "outputs": [
    {
     "name": "stdout",
     "output_type": "stream",
     "text": [
      "1.108880928853755\n"
     ]
    }
   ],
   "source": [
    "PBUY3 =((PWEEKDAYYES*PYESDISCOUNTYES*PYESDELIVERYYES)*PYES) / (PWEEKDAY* PYESDISCOUNT*PYESDELIVERY)\n",
    "print(PBUY3)"
   ]
  },
  {
   "cell_type": "code",
   "execution_count": 45,
   "metadata": {},
   "outputs": [],
   "source": [
    "#NOMER 03 P (Not Buy | Day = Weekday, Free Delivery = Yes, Discount = Yes)\n",
    "# Kondisi B Dimana\n",
    "# DAY = WEEKDAY\n",
    "# DISCOUNT = YES\n",
    "# FREE DELIVERY =YES\n",
    "# P(A) = NO BUY =PNO\n",
    "# P(B) = PYESDISCOUNT, PYESDELIVERY ,PWEEKDAY\n",
    "# P(B|A)1 =(PWEEKDAY|NO BUY) =PWEEKDAYNO\n",
    "# P(B|A)2 =(PYESDISCOUNT|NO BUY) =PYESDISCOUNTNO\n",
    "# P(B|A)3 =(PYESDELIVERY|NO BUY) =PYESDELIVERYNO\n",
    "# P(B)1 =PWEEKDAY\n",
    "# P(B)2 =PYESDISCOUNT\n",
    "# P(B)3 =PYESDELIVERY\n",
    "\n",
    "#Ditanya P(A|B) ?\n",
    "#Rumus\n",
    "# P(A|B) = P(B|A)*P(A)/P(B)"
   ]
  },
  {
   "cell_type": "code",
   "execution_count": 46,
   "metadata": {},
   "outputs": [
    {
     "name": "stdout",
     "output_type": "stream",
     "text": [
      "0.019762845849802375\n"
     ]
    }
   ],
   "source": [
    "PNOBUY4 = ((PWEEKDAYNO*PYESDISCOUNTNO*PYESDELIVERYNO)*PNO) / (PWEEKDAY* PYESDISCOUNT*PYESDELIVERY)\n",
    "print(PNOBUY4)"
   ]
  },
  {
   "cell_type": "code",
   "execution_count": 47,
   "metadata": {},
   "outputs": [],
   "source": [
    "# Probablity of No purchase = 0.019762845849802375\n",
    "# Probablity of  purchase = 1.108880928853755"
   ]
  },
  {
   "cell_type": "code",
   "execution_count": 48,
   "metadata": {},
   "outputs": [
    {
     "name": "stdout",
     "output_type": "stream",
     "text": [
      "1.1286437747035576\n"
     ]
    }
   ],
   "source": [
    "PSum = PNOBUY4 + PBUY3\n",
    "print (PSum)"
   ]
  },
  {
   "cell_type": "code",
   "execution_count": 50,
   "metadata": {},
   "outputs": [
    {
     "name": "stdout",
     "output_type": "stream",
     "text": [
      "98.24897400820792\n"
     ]
    }
   ],
   "source": [
    "PBUY3 = (PBUY3/PSum)*100\n",
    "print (PBUY3)"
   ]
  },
  {
   "cell_type": "code",
   "execution_count": 51,
   "metadata": {},
   "outputs": [
    {
     "name": "stdout",
     "output_type": "stream",
     "text": [
      "1.7510259917920656\n"
     ]
    }
   ],
   "source": [
    "PNOBUY4 = (PNOBUY4/PSum)*100\n",
    "print (PNOBUY4)"
   ]
  },
  {
   "cell_type": "code",
   "execution_count": null,
   "metadata": {},
   "outputs": [],
   "source": [
    "#NOMER 02 P (Buy | Day = Weekday, Free Delivery = No, Discount = No)\n",
    "# Kondisi B Dimana\n",
    "# DAY = WEEKDAY\n",
    "# DISCOUNT = NO\n",
    "# FREE DELIVERY =NO\n",
    "# P(A) = BUY =PYES\n",
    "# P(B) = PNODISCOUNTYES, PNODELIVERYYES ,PWEEKDAY\n",
    "# P(B|A)1 =(PWEEKDAY| BUY) =PWEEKDAYYES\n",
    "# P(B|A)2 =(PNODISCOUNT|BUY) =PNODISCOUNTYES\n",
    "# P(B|A)3 =(PNODELIVERY|BUY) =PNODELIVERYYES\n",
    "# P(B)1 =PWEEKDAY\n",
    "# P(B)2 =PNODISCOUNT\n",
    "# P(B)3 =PNODELIVERY\n",
    "\n",
    "#Ditanya P(A|B) ?\n",
    "#Rumus\n",
    "# P(A|B) = P(B|A)*P(A)/P(B)"
   ]
  },
  {
   "cell_type": "code",
   "execution_count": 54,
   "metadata": {},
   "outputs": [
    {
     "name": "stdout",
     "output_type": "stream",
     "text": [
      "0.27394480519480524\n"
     ]
    }
   ],
   "source": [
    " PBUY5 = ((PWEEKDAYYES*PNODISCOUNTYES*PNODELIVERYYES)*PYES) / (PWEEKDAY* PNODISCOUNT*PNODELIVERY)\n",
    "print(PBUY5)"
   ]
  },
  {
   "cell_type": "code",
   "execution_count": 55,
   "metadata": {},
   "outputs": [],
   "source": [
    "#NOMER 04   P (Not Buy | Day = Weekday, Free Delivery = No, Discount = No)\n",
    "# Kondisi B Dimana\n",
    "# DAY = WEEKDAY\n",
    "# DISCOUNT = NO\n",
    "# FREE DELIVERY =NO\n",
    "# P(A) = NO BUY =PNO\n",
    "# P(B) = PNODISCOUNT, PNODELIVERY ,PWEEKDAY\n",
    "# P(B|A)1 =(PHOLIDAY|NO BUY) =PWEEKDAYNO\n",
    "# P(B|A)2 =(PNODISCOUNT|NO BUY) =PNODISCOUNTNO\n",
    "# P(B|A)3 =(PNODELIVERY|NO BUY) =PNODELIVERYNO\n",
    "# P(B)1 =PWEEKDAY\n",
    "# P(B)2 =PNOSDISCOUNT\n",
    "# P(B)3 =PNODELIVERY\n",
    "\n",
    "#Ditanya P(A|B) ?\n",
    "#Rumus\n",
    "# P(A|B) = P(B|A)*P(A)/P(B)"
   ]
  },
  {
   "cell_type": "code",
   "execution_count": 56,
   "metadata": {},
   "outputs": [
    {
     "name": "stdout",
     "output_type": "stream",
     "text": [
      "1.2987012987012987\n"
     ]
    }
   ],
   "source": [
    " PNOBUY6 = ((PWEEKDAYNO*PNODISCOUNTNO*PNODELIVERYNO)*PNO) / (PWEEKDAY* PNODISCOUNT*PNODELIVERY)\n",
    "print(PNOBUY6)"
   ]
  },
  {
   "cell_type": "code",
   "execution_count": null,
   "metadata": {},
   "outputs": [],
   "source": [
    "# Probablity of No purchase =1.2987012987012987\n",
    "# Probablity of  purchase =0.27394480519480524"
   ]
  },
  {
   "cell_type": "code",
   "execution_count": 57,
   "metadata": {},
   "outputs": [
    {
     "name": "stdout",
     "output_type": "stream",
     "text": [
      "1.572646103896104\n"
     ]
    }
   ],
   "source": [
    "PSum = PNOBUY6 + PBUY5\n",
    "print (PSum)"
   ]
  },
  {
   "cell_type": "code",
   "execution_count": 58,
   "metadata": {},
   "outputs": [
    {
     "name": "stdout",
     "output_type": "stream",
     "text": [
      "17.41935483870968\n"
     ]
    }
   ],
   "source": [
    "PBUY5 = (PBUY5/PSum)*100\n",
    "print (PBUY5)"
   ]
  },
  {
   "cell_type": "code",
   "execution_count": 59,
   "metadata": {},
   "outputs": [
    {
     "name": "stdout",
     "output_type": "stream",
     "text": [
      "82.58064516129032\n"
     ]
    }
   ],
   "source": [
    "PNOBUY6 = (PNOBUY6/PSum)*100\n",
    "print (PNOBUY6)"
   ]
  },
  {
   "cell_type": "code",
   "execution_count": 60,
   "metadata": {},
   "outputs": [],
   "source": [
    "#NOMEER 05 P (Buy | Day = Weekend, Free Delivery = Yes, Discount = Yes)\n",
    "# Kondisi B Dimana\n",
    "# DAY = WEEKEND\n",
    "# DISCOUNT = YES\n",
    "# FREE DELIVERY =YES\n",
    "# P(A) = BUY =PYES\n",
    "# P(B) = PYESDISCOUNT, PYESDELIVERY ,WEEKEND\n",
    "# P(B|A)1 =(PWEEKDAY|BUY) =PWEEKENDYES\n",
    "# P(B|A)2 =(PYESDISCOUNT|BUY) =PYESDISCOUNTYES\n",
    "# P(B|A)3 =(PYESDELIVERY|BUY) =PYESDELIVERYYES\n",
    "# P(B)1 =PWEEKEND\n",
    "# P(B)2 =PYESDISCOUNT\n",
    "# P(B)3 =PYESDELIVERY\n",
    "\n",
    "#Ditanya P(A|B) ?\n",
    "#Rumus\n",
    "# P(A|B) = P(B|A)*P(A)/P(B)"
   ]
  },
  {
   "cell_type": "code",
   "execution_count": 61,
   "metadata": {},
   "outputs": [
    {
     "name": "stdout",
     "output_type": "stream",
     "text": [
      "1.185886548913044\n"
     ]
    }
   ],
   "source": [
    "PBUY7 =((PWEEKENDYES*PYESDISCOUNTYES*PYESDELIVERYYES)*PYES) / (PWEEKEND* PYESDISCOUNT*PYESDELIVERY)\n",
    "print(PBUY7)"
   ]
  },
  {
   "cell_type": "code",
   "execution_count": null,
   "metadata": {},
   "outputs": [],
   "source": [
    "#NOMER 07 P (Not Buy | Day = Weekend, Free Delivery = Yes, Discount = Yes)\n",
    "# Kondisi B Dimana\n",
    "# DAY = WEEKEND\n",
    "# DISCOUNT = YES\n",
    "# FREE DELIVERY =YES\n",
    "# P(A) = NO BUY =PNO\n",
    "# P(B) = PYESDISCOUNT, PYESDELIVERY ,PWEEKEND\n",
    "# P(B|A)1 =(PWEEKEND|NO BUY) =PWEEKENDNO\n",
    "# P(B|A)2 =(PYESDISCOUNT|NO BUY) =PYESDISCOUNTNO\n",
    "# P(B|A)3 =(PYESDELIVERY|NO BUY) =PYESDELIVERYNO\n",
    "# P(B)1 =PWEEKKEND\n",
    "# P(B)2 =PYESDISCOUNT\n",
    "# P(B)3 =PYESDELIVERY\n",
    "\n",
    "#Ditanya P(A|B) ?\n",
    "#Rumus\n",
    "# P(A|B) = P(B|A)*P(A)/P(B)"
   ]
  },
  {
   "cell_type": "code",
   "execution_count": 62,
   "metadata": {},
   "outputs": [
    {
     "name": "stdout",
     "output_type": "stream",
     "text": [
      "0.013586956521739134\n"
     ]
    }
   ],
   "source": [
    "PNOBUY8 = ((PWEEKENDNO*PYESDISCOUNTNO*PYESDELIVERYNO)*PNO) / (PWEEKEND* PYESDISCOUNT*PYESDELIVERY)\n",
    "print(PNOBUY8)"
   ]
  },
  {
   "cell_type": "code",
   "execution_count": null,
   "metadata": {},
   "outputs": [],
   "source": [
    "# Probablity of No purchase =0.013586956521739134\n",
    "# Probablity of  purchase =1.185886548913044"
   ]
  },
  {
   "cell_type": "code",
   "execution_count": 63,
   "metadata": {},
   "outputs": [
    {
     "name": "stdout",
     "output_type": "stream",
     "text": [
      "1.199473505434783\n"
     ]
    }
   ],
   "source": [
    "PSum = PNOBUY8 + PBUY7\n",
    "print (PSum)"
   ]
  },
  {
   "cell_type": "code",
   "execution_count": 64,
   "metadata": {},
   "outputs": [
    {
     "name": "stdout",
     "output_type": "stream",
     "text": [
      "98.86725663716815\n"
     ]
    }
   ],
   "source": [
    "PBUY7 = (PBUY7/PSum)*100\n",
    "print (PBUY7)"
   ]
  },
  {
   "cell_type": "code",
   "execution_count": 65,
   "metadata": {},
   "outputs": [
    {
     "name": "stdout",
     "output_type": "stream",
     "text": [
      "1.1327433628318584\n"
     ]
    }
   ],
   "source": [
    "PNOBUY8 = (PNOBUY8/PSum)*100\n",
    "print (PNOBUY8)"
   ]
  },
  {
   "cell_type": "code",
   "execution_count": 66,
   "metadata": {},
   "outputs": [],
   "source": [
    "#NOMER 06 P (Buy | Day = Weekend, Free Delivery = No, Discount = No) \n",
    "# Kondisi B Dimana\n",
    "# DAY = WEEKEND\n",
    "# DISCOUNT = NO\n",
    "# FREE DELIVERY =NO\n",
    "# P(A) = BUY =PYES\n",
    "# P(B) = PNODISCOUNTYES, PNODELIVERYYES ,PWEEKEND\n",
    "# P(B|A)1 =(PWEEKEND| BUY) =PWEEKENDYES\n",
    "# P(B|A)2 =(PNODISCOUNT|BUY) =PNODISCOUNTYES\n",
    "# P(B|A)3 =(PNODELIVERY|BUY) =PNODELIVERYYES\n",
    "# P(B)1 =PWEEKEND\n",
    "# P(B)2 =PNODISCOUNT\n",
    "# P(B)3 =PNODELIVERY\n",
    "\n",
    "#Ditanya P(A|B) ?\n",
    "#Rumus\n",
    "# P(A|B) = P(B|A)*P(A)/P(B)"
   ]
  },
  {
   "cell_type": "code",
   "execution_count": 67,
   "metadata": {},
   "outputs": [
    {
     "name": "stdout",
     "output_type": "stream",
     "text": [
      "0.29296875000000006\n"
     ]
    }
   ],
   "source": [
    " PBUY9 = ((PWEEKENDYES*PNODISCOUNTYES*PNODELIVERYYES)*PYES) / (PWEEKEND* PNODISCOUNT*PNODELIVERY)\n",
    "print(PBUY9)"
   ]
  },
  {
   "cell_type": "code",
   "execution_count": 68,
   "metadata": {},
   "outputs": [],
   "source": [
    "#NOMER 8 P (Not Buy | Day = Weekend, Free Delivery = No, Discount = No)\n",
    "# Kondisi B Dimana\n",
    "# DAY = WEEKEND\n",
    "# DISCOUNT = NO\n",
    "# FREE DELIVERY =NO\n",
    "# P(A) = NO BUY =PNO\n",
    "# P(B) = PNODISCOUNT, PNODELIVERY ,PWEEK\n",
    "# P(B|A)1 =(PWEEKEND|NO BUY) =PWEEKENDNO\n",
    "# P(B|A)2 =(PNODISCOUNT|NO BUY) =PNODISCOUNTNO\n",
    "# P(B|A)3 =(PNODELIVERY|NO BUY) =PNODELIVERYNO\n",
    "# P(B)1 =PWEEKEND\n",
    "# P(B)2 =PNOSDISCOUNT\n",
    "# P(B)3 =PNODELIVERY\n",
    "\n",
    "#Ditanya P(A|B) ?\n",
    "#Rumus\n",
    "# P(A|B) = P(B|A)*P(A)/P(B)"
   ]
  },
  {
   "cell_type": "code",
   "execution_count": 69,
   "metadata": {},
   "outputs": [
    {
     "name": "stdout",
     "output_type": "stream",
     "text": [
      "0.8928571428571428\n"
     ]
    }
   ],
   "source": [
    " PNOBUY10 = ((PWEEKENDNO*PNODISCOUNTNO*PNODELIVERYNO)*PNO) / (PWEEKEND* PNODISCOUNT*PNODELIVERY)\n",
    "print(PNOBUY10)"
   ]
  },
  {
   "cell_type": "code",
   "execution_count": 70,
   "metadata": {},
   "outputs": [],
   "source": [
    "# Probablity of No purchase =0.8928571428571428\n",
    "# Probablity of  purchase =0.29296875000000006"
   ]
  },
  {
   "cell_type": "code",
   "execution_count": 71,
   "metadata": {},
   "outputs": [
    {
     "name": "stdout",
     "output_type": "stream",
     "text": [
      "1.1858258928571428\n"
     ]
    }
   ],
   "source": [
    "PSum = PNOBUY10 + PBUY9\n",
    "print (PSum)"
   ]
  },
  {
   "cell_type": "code",
   "execution_count": 72,
   "metadata": {},
   "outputs": [
    {
     "name": "stdout",
     "output_type": "stream",
     "text": [
      "24.705882352941185\n"
     ]
    }
   ],
   "source": [
    "PBUY9 = (PBUY9/PSum)*100\n",
    "print (PBUY9)"
   ]
  },
  {
   "cell_type": "code",
   "execution_count": 73,
   "metadata": {},
   "outputs": [
    {
     "name": "stdout",
     "output_type": "stream",
     "text": [
      "75.29411764705883\n"
     ]
    }
   ],
   "source": [
    "PNOBUY10 = (PNOBUY10/PSum)*100\n",
    "print (PNOBUY10)"
   ]
  },
  {
   "cell_type": "code",
   "execution_count": null,
   "metadata": {},
   "outputs": [],
   "source": []
  }
 ],
 "metadata": {
  "kernelspec": {
   "display_name": "Python 3",
   "language": "python",
   "name": "python3"
  },
  "language_info": {
   "codemirror_mode": {
    "name": "ipython",
    "version": 3
   },
   "file_extension": ".py",
   "mimetype": "text/x-python",
   "name": "python",
   "nbconvert_exporter": "python",
   "pygments_lexer": "ipython3",
   "version": "3.7.6"
  }
 },
 "nbformat": 4,
 "nbformat_minor": 4
}
